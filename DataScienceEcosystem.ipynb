{
 "cells": [
  {
   "cell_type": "markdown",
   "id": "5be70b0b-3752-4e65-9b3c-868fe60520b3",
   "metadata": {},
   "source": [
    "# Data Science Tools and Ecosystem"
   ]
  },
  {
   "cell_type": "markdown",
   "id": "7e7ee2db-9975-42f6-9aee-5ac5a653a4fe",
   "metadata": {},
   "source": [
    "Note book created for the summary of Data Science tools and Ecosystem"
   ]
  },
  {
   "cell_type": "markdown",
   "id": "8ec69104-8ab3-4d86-afb9-d60797bc3a29",
   "metadata": {},
   "source": [
    "some of the popular languages that Data Scientists use are:\n",
    "+ java\n",
    "+ python\n",
    "+ R"
   ]
  },
  {
   "cell_type": "markdown",
   "id": "ba11cfdd-6d45-4edf-9885-4bc4e3618497",
   "metadata": {},
   "source": [
    "Some of the commonly used libraries for data science are\n",
    "- Matplotlib\n",
    "- panda\n",
    "- scrapy"
   ]
  },
  {
   "cell_type": "markdown",
   "id": "0ca1629c-4c68-4672-b772-9b2bc52d3c73",
   "metadata": {
    "tags": []
   },
   "source": [
    "| Data Science Tools |\n",
    "|---------------------|\n",
    "| integration |\n",
    "| debugger |\n",
    "| text editor |"
   ]
  },
  {
   "cell_type": "markdown",
   "id": "59cf13f1-5cdf-40b1-8452-1d39ddb73a7c",
   "metadata": {
    "tags": []
   },
   "source": [
    "### Below are a few examples of evaluating arithmetic expressions in python"
   ]
  },
  {
   "cell_type": "code",
   "execution_count": 27,
   "id": "4f23a076-c96d-4d50-a61b-5095b1ceba2e",
   "metadata": {
    "tags": []
   },
   "outputs": [
    {
     "data": {
      "text/plain": [
       "17"
      ]
     },
     "execution_count": 27,
     "metadata": {},
     "output_type": "execute_result"
    }
   ],
   "source": [
    "#expression to multiply and then add numbers\n",
    "(4*3)+5"
   ]
  },
  {
   "cell_type": "code",
   "execution_count": 29,
   "id": "fb3975db-4b95-4ed1-86cc-7b86b410c8cd",
   "metadata": {
    "tags": []
   },
   "outputs": [
    {
     "data": {
      "text/plain": [
       "3.3333333333333335"
      ]
     },
     "execution_count": 29,
     "metadata": {},
     "output_type": "execute_result"
    }
   ],
   "source": [
    "#this ill convert minutes to hours\n",
    "200/60"
   ]
  },
  {
   "cell_type": "markdown",
   "id": "7332c9df-0d20-43ae-90a1-5375b3c2191c",
   "metadata": {
    "tags": []
   },
   "source": [
    "__Objectives:__\n",
    "+ learn programming languages\n",
    "+ learn how to structure code\n",
    "+ learn how to combine data into sheets\n",
    "+ learn how to make code useful"
   ]
  },
  {
   "cell_type": "markdown",
   "id": "53e3bc96-8472-4c71-b1fe-c8257c343e74",
   "metadata": {},
   "source": [
    "## Author\n",
    "Beau"
   ]
  },
  {
   "cell_type": "code",
   "execution_count": null,
   "id": "e78cb1a8-b80d-4597-a077-13e657076071",
   "metadata": {},
   "outputs": [],
   "source": []
  }
 ],
 "metadata": {
  "kernelspec": {
   "display_name": "Python 3 (ipykernel)",
   "language": "python",
   "name": "python3"
  },
  "language_info": {
   "codemirror_mode": {
    "name": "ipython",
    "version": 3
   },
   "file_extension": ".py",
   "mimetype": "text/x-python",
   "name": "python",
   "nbconvert_exporter": "python",
   "pygments_lexer": "ipython3",
   "version": "3.11.7"
  }
 },
 "nbformat": 4,
 "nbformat_minor": 5
}
